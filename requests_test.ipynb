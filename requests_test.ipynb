{
 "cells": [
  {
   "cell_type": "code",
   "execution_count": null,
   "metadata": {},
   "outputs": [],
   "source": [
    "import requests\n",
    "\n",
    "url = \"http://localhost:8001\""
   ]
  },
  {
   "cell_type": "code",
   "execution_count": 2,
   "metadata": {},
   "outputs": [
    {
     "name": "stdout",
     "output_type": "stream",
     "text": [
      "500\n"
     ]
    }
   ],
   "source": [
    "# Create a new card\n",
    "\n",
    "payload = {\n",
    "    \"titulo\": \"Mi Tarjeta 1\",\n",
    "    \"descripcion\": \"Esta es la descripción de mi tarjeta 1\",\n",
    "    \"img\": \"https://st2.depositphotos.com/3378121/5193/i/450/depositphotos_51933801-stock-photo-labrador-puppies-in-a-basket.jpg\",\n",
    "    \"tags\": [\"perrito\", \"canasta\"],\n",
    "}\n",
    "response = requests.post(f\"{url}/cards\", json=payload)\n",
    "\n",
    "print(response.status_code)\n",
    "if response.status_code == 200:\n",
    "    print(\"Tarjeta creada con éxito\")\n",
    "    print(response.json())"
   ]
  },
  {
   "cell_type": "code",
   "execution_count": null,
   "metadata": {},
   "outputs": [],
   "source": []
  }
 ],
 "metadata": {
  "kernelspec": {
   "display_name": "Python 3",
   "language": "python",
   "name": "python3"
  },
  "language_info": {
   "codemirror_mode": {
    "name": "ipython",
    "version": 3
   },
   "file_extension": ".py",
   "mimetype": "text/x-python",
   "name": "python",
   "nbconvert_exporter": "python",
   "pygments_lexer": "ipython3",
   "version": "3.12.2"
  }
 },
 "nbformat": 4,
 "nbformat_minor": 2
}
